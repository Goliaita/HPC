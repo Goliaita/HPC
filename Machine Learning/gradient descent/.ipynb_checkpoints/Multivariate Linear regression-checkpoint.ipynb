{
 "cells": [
  {
   "cell_type": "markdown",
   "metadata": {},
   "source": [
    "# Ex 2 Analisi multivariata \n",
    "## Dataset a più variabili\n",
    "\n",
    "\n",
    "### Analisi dataset\n",
    "* Prima colonna indica la dimensione della casa\n",
    "* Seconda colonna indica il numero di bagni\n",
    "* Terza colonna indica il prezzo\n",
    "    * Questa sarà la feature di output"
   ]
  },
  {
   "cell_type": "code",
   "execution_count": 54,
   "metadata": {},
   "outputs": [
    {
     "name": "stdout",
     "output_type": "stream",
     "text": [
      "Dataset size :  (47, 3)\n"
     ]
    }
   ],
   "source": [
    "import numpy as np\n",
    "from matplotlib import pyplot as plt\n",
    "\n",
    "data = np.loadtxt('data/ex1data2.txt', delimiter = ',')\n",
    "print(\"Dataset size : \", data.shape)"
   ]
  },
  {
   "cell_type": "markdown",
   "metadata": {},
   "source": [
    "Format formatta il testo all'interno del print"
   ]
  },
  {
   "cell_type": "code",
   "execution_count": 55,
   "metadata": {},
   "outputs": [
    {
     "name": "stdout",
     "output_type": "stream",
     "text": [
      "Training examples: 47\n",
      "Features: 2\n",
      "10 examples: \n",
      " [[2.104e+03 3.000e+00]\n",
      " [1.600e+03 3.000e+00]\n",
      " [2.400e+03 3.000e+00]\n",
      " [1.416e+03 2.000e+00]\n",
      " [3.000e+03 4.000e+00]\n",
      " [1.985e+03 4.000e+00]\n",
      " [1.534e+03 3.000e+00]\n",
      " [1.427e+03 3.000e+00]\n",
      " [1.380e+03 3.000e+00]\n",
      " [1.494e+03 3.000e+00]]\n"
     ]
    }
   ],
   "source": [
    "x = data[:, :2]\n",
    "y = data[:, -1]\n",
    "\n",
    "# set m x 1 matrix\n",
    "y = np.reshape(y, (y.shape[0],1))\n",
    "\n",
    "m = x.shape[0]\n",
    "print(\"Training examples: {}\".format(m))\n",
    "\n",
    "n = x.shape[1]\n",
    "print(\"Features: {}\".format(n))\n",
    "\n",
    "print(\"10 examples: \\n\", x[:10, :])\n",
    "\n"
   ]
  },
  {
   "cell_type": "markdown",
   "metadata": {},
   "source": [
    "### Notes\n",
    "Ci conviene salvare la media e deviazione standard o massimo e minimo per poter poi scalare i nuovi valori per le predizioni.\n",
    "\n",
    "La normalizzazione agisce sull'input.\n",
    "\n",
    "Dopo aver inizializzato a zero i vari vettori di buffer passiamo al calcolo:\n",
    "* In $\\mu$ viene inserita la media delle x\n",
    "* In $\\sigma$ viene calcolata la deviazione standard\n",
    "* Infine viene calcolata la normalizzazione sottraendo ad x la media e diviso il tutto per la deviazione standard"
   ]
  },
  {
   "cell_type": "code",
   "execution_count": 56,
   "metadata": {},
   "outputs": [],
   "source": [
    "def featureNormalize(x):\n",
    "    x_norm = x\n",
    "    \n",
    "    mu = np.zeros((1, x.shape[1]))\n",
    "    sigma = np.zeros((1, x.shape[1]))\n",
    "    \n",
    "    mu = np.mean(x, axis = 0)\n",
    "    sigma = np.std(x, axis = 0)\n",
    "    \n",
    "    for i in range(x.shape[1]):\n",
    "        x_norm[:, i] = (x[:, i] - mu[i]) / sigma[i]\n",
    "        \n",
    "    return x_norm, mu, sigma"
   ]
  },
  {
   "cell_type": "code",
   "execution_count": 57,
   "metadata": {},
   "outputs": [
    {
     "name": "stdout",
     "output_type": "stream",
     "text": [
      "X normalized: [[ 0.13141542 -0.22609337]\n",
      " [-0.5096407  -0.22609337]\n",
      " [ 0.5079087  -0.22609337]\n",
      " [-0.74367706 -1.5543919 ]\n",
      " [ 1.27107075  1.10220517]\n",
      " [-0.01994505  1.10220517]\n",
      " [-0.59358852 -0.22609337]\n",
      " [-0.72968575 -0.22609337]\n",
      " [-0.78946678 -0.22609337]\n",
      " [-0.64446599 -0.22609337]]\n",
      "Mean: 47\n",
      "Deviazione standard: [7.86202619e+02 7.52842809e-01]\n"
     ]
    }
   ],
   "source": [
    "x_norm, mu, sigma = featureNormalize(x)\n",
    "print(\"X normalized: {}\".format(x[:10, :]))\n",
    "print(\"Mean: {}\".format(m))\n",
    "print(\"Deviazione standard: {}\".format(sigma))"
   ]
  },
  {
   "cell_type": "markdown",
   "metadata": {},
   "source": []
  },
  {
   "cell_type": "code",
   "execution_count": 58,
   "metadata": {},
   "outputs": [
    {
     "name": "stdout",
     "output_type": "stream",
     "text": [
      "(47, 3)\n"
     ]
    }
   ],
   "source": [
    "x_norm = np.concatenate([np.ones((m,1)), x_norm], axis = 1)\n",
    "print(x_norm.shape)"
   ]
  },
  {
   "cell_type": "code",
   "execution_count": 59,
   "metadata": {},
   "outputs": [],
   "source": [
    "def compute_cost_vectorized(x, y, theta):\n",
    "    h = x.dot(theta)\n",
    "    J = (h-y).T.dot(h-y)\n",
    "    return J/(2*m)"
   ]
  },
  {
   "cell_type": "code",
   "execution_count": 60,
   "metadata": {},
   "outputs": [],
   "source": [
    "def gradient_descent_vectorized(x, y, theta = [[0], [0], [0]], alpha = 0.001, num_iters= 400):\n",
    "    J_history = np.zeros((num_iters))\n",
    "    for k in range(num_iters):\n",
    "        #print(k)\n",
    "        h = x.dot(theta)\n",
    "        theta = theta - (alpha/m)*(x.T.dot(h-y))\n",
    "        #print(theta)\n",
    "        J_history[k] = compute_cost_vectorized(x, y, theta)\n",
    "    return theta, J_history"
   ]
  },
  {
   "cell_type": "code",
   "execution_count": 64,
   "metadata": {},
   "outputs": [
    {
     "name": "stdout",
     "output_type": "stream",
     "text": [
      "runnung gradient\n",
      "47\n"
     ]
    }
   ],
   "source": [
    "print(\"runnung gradient\")\n",
    "alpha = 0.01\n",
    "num_iters = 1500\n",
    "theta = np.zeros((3, 1))\n",
    "#theta = np.array([1,0,2])\n",
    "print(m)\n",
    "theta_norm, j_history_norm = gradient_descent_vectorized(x_norm, y, theta, alpha, num_iters)\n",
    "x_copy = np.concatenate([np.ones((m,1)), x], axis = 1)\n",
    "theta, j_history = gradient_descent_vectorized(x_copy, y, theta, alpha, num_iters)"
   ]
  },
  {
   "cell_type": "code",
   "execution_count": 75,
   "metadata": {},
   "outputs": [
    {
     "data": {
      "image/png": "[encoded data removed]",
      "text/plain": [
       "<Figure size 432x288 with 1 Axes>"
      ]
     },
     "metadata": {
      "needs_background": "light"
     },
     "output_type": "display_data"
    }
   ],
   "source": [
    "\n",
    "# Plot the convergence graph\n",
    "plt.plot([i for i in range(num_iters)], j_history_norm, '+r', label = 'Norm cost')\n",
    "plt.plot([i for i in range(num_iters)], j_history, '.b', label = 'cost')\n",
    "plt.xlabel('Number of iterations') # Set the x−axis label\n",
    "plt.ylabel('Cost J') # Set the y−axis label \n",
    "plt.title('Cost behavior')\n",
    "plt.legend()\n",
    "plt.show()"
   ]
  },
  {
   "cell_type": "code",
   "execution_count": null,
   "metadata": {},
   "outputs": [],
   "source": []
  }
 ],
 "metadata": {
  "kernelspec": {
   "display_name": "Python 3",
   "language": "python",
   "name": "python3"
  },
  "language_info": {
   "codemirror_mode": {
    "name": "ipython",
    "version": 3
   },
   "file_extension": ".py",
   "mimetype": "text/x-python",
   "name": "python",
   "nbconvert_exporter": "python",
   "pygments_lexer": "ipython3",
   "version": "3.7.3"
  }
 },
 "nbformat": 4,
 "nbformat_minor": 2
}
