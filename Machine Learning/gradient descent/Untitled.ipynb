{
 "cells": [
  {
   "cell_type": "markdown",
   "metadata": {},
   "source": [
    "# Normal equation\n",
    "\n",
    "$J(\\theta) = \\frac{1}{2m} (X\\theta-y)^{T}(X\\theta-y)$\n",
    "\n",
    "$->$\n",
    "\n",
    "$\\theta = (X^{T}X)^{-1} X^{T}y$\n",
    "\n",
    "La costante la possiamo eliminare in quanto non da fastidio alla ricerca di minimo scala solamente.\n"
   ]
  },
  {
   "cell_type": "markdown",
   "metadata": {},
   "source": [
    "## Imports"
   ]
  },
  {
   "cell_type": "code",
   "execution_count": 17,
   "metadata": {},
   "outputs": [
    {
     "name": "stdout",
     "output_type": "stream",
     "text": [
      "Dataset size :  (47, 3)\n"
     ]
    }
   ],
   "source": [
    "import numpy as np\n",
    "from matplotlib import pyplot as plt\n",
    "\n",
    "data = np.loadtxt('data/ex1data2.txt', delimiter = ',')\n",
    "print(\"Dataset size : \", data.shape)"
   ]
  },
  {
   "cell_type": "markdown",
   "metadata": {},
   "source": [
    "## Set start variable (import data)"
   ]
  },
  {
   "cell_type": "code",
   "execution_count": 18,
   "metadata": {},
   "outputs": [
    {
     "name": "stdout",
     "output_type": "stream",
     "text": [
      "Training examples: 47\n",
      "Features: 2\n",
      "10 examples: \n",
      " [[2.104e+03 3.000e+00]\n",
      " [1.600e+03 3.000e+00]\n",
      " [2.400e+03 3.000e+00]\n",
      " [1.416e+03 2.000e+00]\n",
      " [3.000e+03 4.000e+00]\n",
      " [1.985e+03 4.000e+00]\n",
      " [1.534e+03 3.000e+00]\n",
      " [1.427e+03 3.000e+00]\n",
      " [1.380e+03 3.000e+00]\n",
      " [1.494e+03 3.000e+00]]\n"
     ]
    }
   ],
   "source": [
    "x = data[:, :2]\n",
    "y = data[:, -1]\n",
    "\n",
    "# set m x 1 matrix\n",
    "y = np.reshape(y, (y.shape[0],1))\n",
    "\n",
    "m = x.shape[0]\n",
    "print(\"Training examples: {}\".format(m))\n",
    "\n",
    "n = x.shape[1]\n",
    "print(\"Features: {}\".format(n))\n",
    "\n",
    "print(\"10 examples: \\n\", x[:10, :])\n"
   ]
  },
  {
   "cell_type": "markdown",
   "metadata": {},
   "source": [
    "### Normal equation"
   ]
  },
  {
   "cell_type": "code",
   "execution_count": 19,
   "metadata": {},
   "outputs": [],
   "source": []
  },
  {
   "cell_type": "markdown",
   "metadata": {},
   "source": [
    "### Compute cost"
   ]
  },
  {
   "cell_type": "code",
   "execution_count": 20,
   "metadata": {},
   "outputs": [],
   "source": [
    "def compute_cost_vectorized(x, y, theta):\n",
    "    h = x.dot(theta)\n",
    "    J = (h-y).T.dot(h-y)\n",
    "    return J/(2*m)"
   ]
  },
  {
   "cell_type": "markdown",
   "metadata": {},
   "source": [
    "### Usage"
   ]
  },
  {
   "cell_type": "code",
   "execution_count": 21,
   "metadata": {},
   "outputs": [
    {
     "name": "stdout",
     "output_type": "stream",
     "text": [
      "[[89597.90954355]\n",
      " [  139.21067402]\n",
      " [-8738.01911255]]\n"
     ]
    }
   ],
   "source": [
    "x_copy = np.concatenate([np.ones((m,1)), x], axis = 1)\n",
    "theta = normal_equation(x_copy, y)\n",
    "print(theta)\n",
    "cost = compute_cost_vectorized(x_copy, y, theta)"
   ]
  },
  {
   "cell_type": "code",
   "execution_count": 22,
   "metadata": {},
   "outputs": [
    {
     "data": {
      "image/png": "[encoded data removed]",
      "text/plain": [
       "<Figure size 432x288 with 1 Axes>"
      ]
     },
     "metadata": {
      "needs_background": "light"
     },
     "output_type": "display_data"
    }
   ],
   "source": [
    "plt.plot([i for i in range(1)], cost, '+r', label = 'Normal equation')\n",
    "plt.xlabel('Number of iterations') # Set the x−axis label\n",
    "plt.ylabel('Cost J') # Set the y−axis label \n",
    "plt.title('Cost behavior')\n",
    "plt.legend()\n",
    "plt.show()"
   ]
  },
  {
   "cell_type": "code",
   "execution_count": null,
   "metadata": {},
   "outputs": [],
   "source": [
    "_x = np.array([1650, 3])\n",
    "_x = np.array([1, (_x[0]-mu[0])/sigma[0], (_x[1]-mu[1])/sigma[1]])\n"
   ]
  }
 ],
 "metadata": {
  "kernelspec": {
   "display_name": "Python 3",
   "language": "python",
   "name": "python3"
  },
  "language_info": {
   "codemirror_mode": {
    "name": "ipython",
    "version": 3
   },
   "file_extension": ".py",
   "mimetype": "text/x-python",
   "name": "python",
   "nbconvert_exporter": "python",
   "pygments_lexer": "ipython3",
   "version": "3.7.3"
  }
 },
 "nbformat": 4,
 "nbformat_minor": 2
}
